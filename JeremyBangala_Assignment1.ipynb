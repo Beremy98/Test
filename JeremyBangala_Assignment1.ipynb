{
 "cells": [
  {
   "cell_type": "markdown",
   "metadata": {},
   "source": [
    "# Jeremy Bangala Assignment 1"
   ]
  },
  {
   "cell_type": "markdown",
   "metadata": {},
   "source": [
    "# Question 1"
   ]
  },
  {
   "cell_type": "code",
   "execution_count": 39,
   "metadata": {},
   "outputs": [
    {
     "name": "stdout",
     "output_type": "stream",
     "text": [
      "Enter the distance in km: 190\n",
      "190.0 km converted to miles is equal to 118.06599999999999 miles\n"
     ]
    }
   ],
   "source": [
    "km = float(input(\"Enter the distance in km: \"))\n",
    "\n",
    "#Conversion Factor\n",
    "miles = km*0.6214 \n",
    "\n",
    "print (km,\"km converted to miles is equal to\", miles, \"miles\")\n"
   ]
  },
  {
   "cell_type": "markdown",
   "metadata": {},
   "source": [
    "# Question 2"
   ]
  },
  {
   "cell_type": "code",
   "execution_count": 40,
   "metadata": {},
   "outputs": [
    {
     "name": "stdout",
     "output_type": "stream",
     "text": [
      "Enter a number: 8\n",
      "Sorry, 8 is not a prime number\n"
     ]
    }
   ],
   "source": [
    "num = int(input(\"Enter a number: \"))\n",
    "\n",
    "if num > 1:  \n",
    "   for i in range(2,num):  \n",
    "       if (num % i) == 0:  \n",
    "           print(\"Sorry,\", num,\"is not a prime number\")   \n",
    "           break  \n",
    "   else:  \n",
    "       print(\"Yes,\", num,\"is a prime number\")  \n",
    "        \n",
    "else: \n",
    "    print(\"Sorry,\", num,\"is not a prime number\")\n",
    "          "
   ]
  },
  {
   "cell_type": "markdown",
   "metadata": {},
   "source": [
    "# Question 3"
   ]
  },
  {
   "cell_type": "code",
   "execution_count": 41,
   "metadata": {},
   "outputs": [
    {
     "name": "stdout",
     "output_type": "stream",
     "text": [
      "Enter the Federal tax rate(%): 5\n",
      "Enter the Provincial tax rate(%): 9.756\n",
      "Enter the price before tax: 39.99\n",
      "Your total price after taxes is 45.8909244 $\n"
     ]
    }
   ],
   "source": [
    "fed = float(input (\"Enter the Federal tax rate(%): \"))\n",
    "prov = float(input (\"Enter the Provincial tax rate(%): \"))\n",
    "price = float(input (\"Enter the price before tax: \"))\n",
    "\n",
    "#Total Calculator\n",
    "total = price + ((fed*price)/100) + ((prov*price)/100)\n",
    "\n",
    "print (\"Your total price after taxes is\", total, \"$\")\n",
    "\n",
    "\n"
   ]
  },
  {
   "cell_type": "markdown",
   "metadata": {},
   "source": [
    "# Question 4"
   ]
  },
  {
   "cell_type": "code",
   "execution_count": 42,
   "metadata": {},
   "outputs": [
    {
     "name": "stdout",
     "output_type": "stream",
     "text": [
      "Enter first number: 123456\n",
      "Enter second number: 65432\n",
      "123456.0 + 65432.0 = 188888.0\n",
      "123456.0 - 65432.0 = 58024.0\n",
      "123456.0 * 65432.0 = 8077972992.0\n",
      "123456.0 ÷ 65432.0 = 1.8867832253331702\n"
     ]
    }
   ],
   "source": [
    "num1 = float(input (\"Enter first number: \"))\n",
    "num2 = float(input (\"Enter second number: \"))\n",
    "\n",
    "add = num1 + num2 \n",
    "sub = num1 - num2 \n",
    "mult = num1*num2 \n",
    "div = num1/num2 \n",
    "\n",
    "print (num1, \"+\", num2,\"=\", add)\n",
    "print (num1, \"-\", num2,\"=\", sub)\n",
    "print (num1, \"*\", num2,\"=\", mult)\n",
    "print (num1, \"÷\", num2,\"=\", div)"
   ]
  }
 ],
 "metadata": {
  "kernelspec": {
   "display_name": "Python 3",
   "language": "python",
   "name": "python3"
  },
  "language_info": {
   "codemirror_mode": {
    "name": "ipython",
    "version": 3
   },
   "file_extension": ".py",
   "mimetype": "text/x-python",
   "name": "python",
   "nbconvert_exporter": "python",
   "pygments_lexer": "ipython3",
   "version": "3.7.3"
  }
 },
 "nbformat": 4,
 "nbformat_minor": 2
}
